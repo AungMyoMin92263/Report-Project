{
 "cells": [
  {
   "cell_type": "code",
   "execution_count": null,
   "source": [
    "@gfg_decorator\r\n",
    "def hello_decorator():\r\n",
    "    print(\"Gfg\")"
   ],
   "outputs": [],
   "metadata": {}
  },
  {
   "cell_type": "code",
   "execution_count": null,
   "source": [
    "@hello_decorator\r\n",
    "def hello():\r\n",
    "    print('Hello World')\r\n",
    "    \r\n",
    "hello = hello_decorator(hello)"
   ],
   "outputs": [],
   "metadata": {}
  },
  {
   "cell_type": "code",
   "execution_count": null,
   "source": [
    "# defining a decorator\r\n",
    "def hello_decorator(func):\r\n",
    "\r\n",
    "\t# inner1 is a Wrapper function in\r\n",
    "\t# which the argument is called\r\n",
    "\t\r\n",
    "\t# inner function can access the outer local\r\n",
    "\t# functions like in this case \"func\"\r\n",
    "\tdef inner1():\r\n",
    "\t\tprint(\"Hello, this is before function execution\")\r\n",
    "\r\n",
    "\t\t# calling the actual function now\r\n",
    "\t\t# inside the wrapper function.\r\n",
    "\t\tfunc()\r\n",
    "\r\n",
    "\t\tprint(\"This is after function execution\")\r\n",
    "\t\t\r\n",
    "\treturn inner1\r\n",
    "\r\n",
    "\r\n",
    "# defining a function, to be called inside wrapper\r\n",
    "def function_to_be_used():\r\n",
    "\tprint(\"This is inside the function !!\")\r\n",
    "\r\n",
    "\r\n",
    "# passing 'function_to_be_used' inside the\r\n",
    "# decorator to control its behavior\r\n",
    "function_to_be_used = hello_decorator(function_to_be_used)\r\n",
    "\r\n",
    "\r\n",
    "# calling the function\r\n",
    "function_to_be_used()\r\n"
   ],
   "outputs": [],
   "metadata": {}
  },
  {
   "cell_type": "code",
   "execution_count": null,
   "source": [
    "def hello_decorator(func):\r\n",
    "\tdef inner1(*args, **kwargs):\r\n",
    "\t\t\r\n",
    "\t\tprint(\"before Execution\")\r\n",
    "\t\t\r\n",
    "\t\t# getting the returned value\r\n",
    "\t\treturned_value = func(*args, **kwargs)\r\n",
    "\t\tprint(\"after Execution\")\r\n",
    "\t\t\r\n",
    "\t\t# returning the value to the original frame\r\n",
    "\t\treturn returned_value\r\n",
    "\t\t\r\n",
    "\treturn inner1\r\n",
    "\r\n",
    "\r\n",
    "# adding decorator to the function\r\n",
    "@hello_decorator\r\n",
    "def sum_two_numbers(a, b):\r\n",
    "\tprint(\"Inside the function\")\r\n",
    "\treturn a + b\r\n",
    "\r\n",
    "a, b = 1, 2\r\n",
    "\r\n",
    "# getting the value through return of the function\r\n",
    "print(\"Sum =\", sum_two_numbers(a, b))\r\n"
   ],
   "outputs": [],
   "metadata": {}
  },
  {
   "cell_type": "code",
   "execution_count": null,
   "source": [
    "\r\n",
    "\r\n",
    "def print_hello(func):\r\n",
    "    func(a,b)\r\n",
    "    print('Hello world from decorator')\r\n",
    "    return a+b\r\n",
    "    \r\n",
    "@print_hello\r\n",
    "def sum():\r\n",
    "    pass\r\n",
    "\r\n",
    "print('sum = ', sum(2,2))"
   ],
   "outputs": [],
   "metadata": {}
  },
  {
   "cell_type": "code",
   "execution_count": null,
   "source": [
    "def myfunction():\r\n",
    "    print('Hello myf')\r\n",
    "\r\n",
    "description = myfunction()"
   ],
   "outputs": [],
   "metadata": {}
  },
  {
   "cell_type": "code",
   "execution_count": null,
   "source": [
    "def outer_function(fun1):\r\n",
    "    print('Outer function')\r\n",
    "    return fun1()\r\n",
    "    \r\n",
    "fun1 = outer_function()"
   ],
   "outputs": [],
   "metadata": {}
  },
  {
   "cell_type": "code",
   "execution_count": null,
   "source": [
    "type(fun1)"
   ],
   "outputs": [],
   "metadata": {}
  },
  {
   "cell_type": "code",
   "execution_count": 34,
   "source": [
    "def outer_function(func):\r\n",
    "    def inner_function():\r\n",
    "        print('Inner function')\r\n",
    "        func()\r\n",
    "        \r\n",
    "    return inner_function()\r\n",
    "\r\n",
    "def function_to_be_usedd():\r\n",
    "        print('funtion to be s=used')\r\n",
    "        \r\n",
    "func1 = outer_function(function_to_be_usedd)"
   ],
   "outputs": [
    {
     "output_type": "stream",
     "name": "stdout",
     "text": [
      "Inner function\n",
      "funtion to be s=used\n"
     ]
    }
   ],
   "metadata": {}
  },
  {
   "cell_type": "code",
   "execution_count": 43,
   "source": [
    "def decorator_function(func):\r\n",
    "    def inner_function(*args, **kwargs):\r\n",
    "        print('Inner function')\r\n",
    "        value = func(*args, **kwargs)\r\n",
    "        return value\r\n",
    "    return inner_function\r\n",
    "\r\n",
    "\r\n",
    "@decorator_function\r\n",
    "def sum(a,b):\r\n",
    "    return a+b\r\n",
    "    \r\n",
    "\r\n",
    "function = sum(2,3)"
   ],
   "outputs": [
    {
     "output_type": "stream",
     "name": "stdout",
     "text": [
      "Inner function\n"
     ]
    }
   ],
   "metadata": {}
  },
  {
   "cell_type": "code",
   "execution_count": null,
   "source": [],
   "outputs": [],
   "metadata": {}
  }
 ],
 "metadata": {
  "orig_nbformat": 4,
  "language_info": {
   "name": "python",
   "version": "3.8.5",
   "mimetype": "text/x-python",
   "codemirror_mode": {
    "name": "ipython",
    "version": 3
   },
   "pygments_lexer": "ipython3",
   "nbconvert_exporter": "python",
   "file_extension": ".py"
  },
  "kernelspec": {
   "name": "python3",
   "display_name": "Python 3.8.5 64-bit ('base': conda)"
  },
  "interpreter": {
   "hash": "eced8452471778e9ac42ca207316827da751087c6646d3036d539e38bd094707"
  }
 },
 "nbformat": 4,
 "nbformat_minor": 2
}